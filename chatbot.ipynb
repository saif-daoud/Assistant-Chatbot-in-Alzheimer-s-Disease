{
  "cells": [
    {
      "cell_type": "markdown",
      "metadata": {
        "id": "1LRwBMJdF_d1"
      },
      "source": [
        "## Installation"
      ]
    },
    {
      "cell_type": "code",
      "execution_count": 1,
      "metadata": {
        "id": "5ggXrtFs18rs"
      },
      "outputs": [],
      "source": [
        "%%capture\n",
        "!pip install transformers==4.38.0 sentence-transformers\n",
        "!pip install --upgrade  langchain langchain-community langchainhub langchain-openai chromadb\n",
        "!pip install -qU langchain-openai\n",
        "!pip install evaluate\n",
        "!pip install rouge_score"
      ]
    },
    {
      "cell_type": "markdown",
      "metadata": {
        "id": "Lh60ZvTdGDdh"
      },
      "source": [
        "## Authorization\n",
        "\n",
        "- you need an Hugging Face account\n",
        "- get your token from here https://huggingface.co/settings/tokens"
      ]
    },
    {
      "cell_type": "code",
      "execution_count": 2,
      "metadata": {
        "id": "6lBjYZOC3Ug2"
      },
      "outputs": [],
      "source": [
        "import getpass, os\n",
        "\n",
        "os.environ[\"HF_API_TOKEN\"] = \"YOUR_TOKEN_HERE\"\n",
        "os.environ[\"OPENAI_API_KEY\"] = \"sk-YOUR_TOKEN_HERE\"\n",
        "os.environ[\"LANGCHAIN_TRACING_V2\"] = \"true\"\n",
        "os.environ[\"LANGCHAIN_API_KEY\"] = \"YOUR_TOKEN_HERE\""
      ]
    },
    {
      "cell_type": "markdown",
      "metadata": {
        "id": "df9MGVKtQuYv"
      },
      "source": [
        "## Imports"
      ]
    },
    {
      "cell_type": "code",
      "execution_count": 3,
      "metadata": {
        "id": "XQZyoZHmWvTe"
      },
      "outputs": [],
      "source": [
        "import pandas as pd\n",
        "from langchain import hub\n",
        "from langchain_community.document_loaders import WebBaseLoader\n",
        "from langchain_community.vectorstores import Chroma\n",
        "from langchain_core.output_parsers import StrOutputParser\n",
        "from langchain_core.runnables import RunnablePassthrough\n",
        "from langchain_openai import ChatOpenAI, OpenAIEmbeddings\n",
        "from langchain_text_splitters import RecursiveCharacterTextSplitter\n",
        "from langchain_community.document_loaders.csv_loader import CSVLoader\n",
        "from langchain_core.runnables import RunnableParallel\n",
        "from tqdm.auto import tqdm\n",
        "\n",
        "tqdm.pandas()"
      ]
    },
    {
      "cell_type": "markdown",
      "metadata": {
        "id": "8T8M45x5QyZx"
      },
      "source": [
        "## Read data"
      ]
    },
    {
      "cell_type": "code",
      "execution_count": 5,
      "metadata": {
        "id": "v7IwdSuGX_qE"
      },
      "outputs": [],
      "source": [
        "# Export the DataFrame to a CSV file\n",
        "csv_file_path = 'data_alzheimer - Sheet1.csv'\n",
        "\n",
        "loader = CSVLoader(file_path=csv_file_path, source_column=\"reponse\", metadata_columns=[\"question\"])\n",
        "data = loader.load()"
      ]
    },
    {
      "cell_type": "code",
      "execution_count": 6,
      "metadata": {
        "colab": {
          "base_uri": "https://localhost:8080/"
        },
        "id": "nXUQi6FUem3D",
        "outputId": "60e263e9-81da-493e-e486-123855ef373c"
      },
      "outputs": [
        {
          "data": {
            "text/plain": [
              "Document(page_content='reponse: Alzheimer disease is a progressive neurological disorder that affects memory thinking and behavior leading to cognitive decline and impairments in daily functioning', metadata={'source': 'Alzheimer disease is a progressive neurological disorder that affects memory thinking and behavior leading to cognitive decline and impairments in daily functioning', 'row': 0, 'question': \"What is Alzheimer's disease, and how does it impact memory, cognition, and behavior, ultimately resulting in a decline in daily functioning?\"})"
            ]
          },
          "execution_count": 6,
          "metadata": {},
          "output_type": "execute_result"
        }
      ],
      "source": [
        "data[0]"
      ]
    },
    {
      "cell_type": "markdown",
      "metadata": {
        "id": "XP6zMmU0Q8kg"
      },
      "source": [
        "## Retrieval Augmented Generation (RAG) Pipeline"
      ]
    },
    {
      "cell_type": "code",
      "execution_count": 7,
      "metadata": {
        "id": "2dJ81N2Pel3t"
      },
      "outputs": [],
      "source": [
        "# Initialize a text splitter with specific chunk size and overlap\n",
        "text_splitter = RecursiveCharacterTextSplitter(chunk_size=1000, chunk_overlap=200)\n",
        "# Split the input data into manageable chunks\n",
        "splits = text_splitter.split_documents(data)\n",
        "# Create a vector store from the document splits using OpenAI embeddings\n",
        "vectorstore = Chroma.from_documents(documents=splits, embedding=OpenAIEmbeddings())\n",
        "\n",
        "# Convert the vector store into a retriever for fetching relevant documents\n",
        "retriever = vectorstore.as_retriever()\n",
        "# Pull a specific prompt model from a hub\n",
        "prompt = hub.pull(\"rlm/rag-prompt\")\n",
        "# Initialize a language model for generating responses\n",
        "llm = ChatOpenAI(model_name=\"gpt-3.5-turbo\", temperature=0)\n",
        "\n",
        "def format_docs(docs):\n",
        "    \"\"\"\n",
        "    Function to format documents into a single string\n",
        "    \"\"\"\n",
        "    return \"\\n\\n\".join(doc.page_content for doc in docs)\n",
        "\n",
        "# Define a chain for processing documents through the prompt and language model\n",
        "rag_chain_from_docs = (\n",
        "    RunnablePassthrough.assign(context=(lambda x: format_docs(x[\"context\"])))\n",
        "    | prompt\n",
        "    | llm\n",
        "    | StrOutputParser()\n",
        ")\n",
        "\n",
        "# Set up a parallel processing chain for handling context retrieval and question answering\n",
        "rag_chain = RunnableParallel(\n",
        "    {\"context\": retriever, \"question\": RunnablePassthrough()}\n",
        ").assign(answer=rag_chain_from_docs)"
      ]
    },
    {
      "cell_type": "markdown",
      "metadata": {
        "id": "be3Zgm1aRQnD"
      },
      "source": [
        "## Demo"
      ]
    },
    {
      "cell_type": "code",
      "execution_count": 8,
      "metadata": {
        "colab": {
          "base_uri": "https://localhost:8080/",
          "height": 108
        },
        "id": "mLjyAjiFbkSG",
        "outputId": "5343443f-e684-4183-a223-abf0dacfa639"
      },
      "outputs": [
        {
          "name": "stdout",
          "output_type": "stream",
          "text": [
            "{'context': [Document(page_content='reponse: Alzheimer disease is a progressive neurological disorder that affects memory thinking and behavior leading to cognitive decline and impairments in daily functioning', metadata={'question': \"What is Alzheimer's disease, and how does it impact memory, cognition, and behavior, ultimately resulting in a decline in daily functioning?\", 'row': 0, 'source': 'Alzheimer disease is a progressive neurological disorder that affects memory thinking and behavior leading to cognitive decline and impairments in daily functioning'}), Document(page_content=\"reponse: Alzheimer's disease is a brain disorder that gets worse over time\", metadata={'question': \"How does Alzheimer's disease progress over time?\", 'row': 19, 'source': \"Alzheimer's disease is a brain disorder that gets worse over time\"}), Document(page_content='reponse: Alzheimer’s disease is the most common type of dementia.', metadata={'question': 'What is the most prevalent form of dementia?', 'row': 34, 'source': 'Alzheimer’s disease is the most common type of dementia.'}), Document(page_content=\"reponse: Alzheimer's disease is the most common cause of dementia a gradual decline in memory, thinking, behavior and social skills. These changes affect a person's ability to function.\", metadata={'question': \"What happens to the brain in Alzheimer's disease, leading to shrinkage and cell death?\", 'row': 22, 'source': \"Alzheimer's disease is the most common cause of dementia a gradual decline in memory, thinking, behavior and social skills. These changes affect a person's ability to function.\"})], 'question': 'What is alzheimer?', 'answer': \"Alzheimer's disease is a progressive neurological disorder that affects memory, thinking, and behavior, leading to cognitive decline and impairments in daily functioning. It is the most common type of dementia and the most common cause of a gradual decline in memory, thinking, behavior, and social skills.\"}\n",
            "\n"
          ]
        },
        {
          "data": {
            "application/vnd.google.colaboratory.intrinsic+json": {
              "type": "string"
            },
            "text/plain": [
              "\"Alzheimer's disease is a progressive neurological disorder that affects memory, thinking, and behavior, leading to cognitive decline and impairments in daily functioning. It is the most common type of dementia and the most common cause of a gradual decline in memory, thinking, behavior, and social skills.\""
            ]
          },
          "execution_count": 8,
          "metadata": {},
          "output_type": "execute_result"
        }
      ],
      "source": [
        "res = rag_chain.invoke(\"What is alzheimer?\")\n",
        "print(res)\n",
        "print()\n",
        "res['answer']"
      ]
    },
    {
      "cell_type": "code",
      "execution_count": 9,
      "metadata": {
        "colab": {
          "base_uri": "https://localhost:8080/",
          "height": 125
        },
        "id": "j_cppS7tbmUq",
        "outputId": "1d79ab94-7f5d-4e52-a293-b3003a074e7b"
      },
      "outputs": [
        {
          "name": "stdout",
          "output_type": "stream",
          "text": [
            "{'context': [Document(page_content='reponse: symptoms of alzheimer included memory loss, language problems, and unpredictable behavior', metadata={'question': \"What are some common symptoms of Alzheimer's disease, encompassing memory loss, language difficulties, and unpredictable behavioral changes?\", 'row': 10, 'source': 'symptoms of alzheimer included memory loss, language problems, and unpredictable behavior'}), Document(page_content='reponse: Symptoms of Alzheimer disease include memory loss difficulty solving problems confusion about time or place changes in mood or personality and challenges with communication and language', metadata={'question': \"What are the symptoms of Alzheimer's disease, encompassing memory loss, problem-solving difficulties, confusion, mood changes, personality alterations, and communication challenges?\", 'row': 1, 'source': 'Symptoms of Alzheimer disease include memory loss difficulty solving problems confusion about time or place changes in mood or personality and challenges with communication and language'}), Document(page_content='reponse: As Alzheimer s advances through the brain it leads to increasingly severe symptoms including disorientation mood and behavior changes deepening confusion about events time and place', metadata={'question': \"What worsens as Alzheimer's advances through the brain, causing increased disorientation, mood and behavior changes, and deeper confusion about events, time, and place?\", 'row': 13, 'source': 'As Alzheimer s advances through the brain it leads to increasingly severe symptoms including disorientation mood and behavior changes deepening confusion about events time and place'}), Document(page_content=\"reponse: Symptoms start becoming more noticeable. More assistance will be needed to help the person living with Alzheimer's accomplish daily tasks\", metadata={'question': \"As Alzheimer's advances, symptoms become more pronounced, necessitating greater assistance for daily tasks.\", 'row': 49, 'source': \"Symptoms start becoming more noticeable. More assistance will be needed to help the person living with Alzheimer's accomplish daily tasks\"})], 'question': 'What is alzheimer symptoms?', 'answer': \"Alzheimer's symptoms include memory loss, language problems, and unpredictable behavior. Symptoms can also include difficulty solving problems, confusion about time or place, changes in mood or personality, and challenges with communication and language. As the disease progresses, symptoms may worsen, leading to disorientation, mood and behavior changes, and deepening confusion about events, time, and place.\"}\n",
            "\n"
          ]
        },
        {
          "data": {
            "application/vnd.google.colaboratory.intrinsic+json": {
              "type": "string"
            },
            "text/plain": [
              "\"Alzheimer's symptoms include memory loss, language problems, and unpredictable behavior. Symptoms can also include difficulty solving problems, confusion about time or place, changes in mood or personality, and challenges with communication and language. As the disease progresses, symptoms may worsen, leading to disorientation, mood and behavior changes, and deepening confusion about events, time, and place.\""
            ]
          },
          "execution_count": 9,
          "metadata": {},
          "output_type": "execute_result"
        }
      ],
      "source": [
        "res = rag_chain.invoke(\"What is alzheimer symptoms?\")\n",
        "print(res)\n",
        "print()\n",
        "res['answer']"
      ]
    },
    {
      "cell_type": "markdown",
      "metadata": {
        "id": "EDSCG4H6RTFb"
      },
      "source": [
        "## Evaluation"
      ]
    },
    {
      "cell_type": "code",
      "execution_count": 10,
      "metadata": {
        "colab": {
          "base_uri": "https://localhost:8080/",
          "height": 49,
          "referenced_widgets": [
            "b3e9ed0e804b4649b128acf9c36e2802",
            "924b037eceec4fa4841a8b400e7335b8",
            "072327831c6b476d8ae00c5aeea09557",
            "7d2644d61d39476c888fd04b14a4cd62",
            "d61c5d1167ec4ef2a12ec9a0ddb1ef6f",
            "91f16204e40944ddba35a903622819b2",
            "abd74aca31ee4ba980e44fd4151369e9",
            "ecbfe459cd734e8faece4ff21e8e1a21",
            "0944167aba3e4edeb5e0e6b9978b3f36",
            "b35b1ff3d539495cbefc1ad93ea383b9",
            "10202f8b3699412d9b0b6e92f17c169e"
          ]
        },
        "id": "e6v6AB5DLASc",
        "outputId": "3354d2d5-8065-4ef9-b95a-e6ecb5576de0"
      },
      "outputs": [
        {
          "data": {
            "application/vnd.jupyter.widget-view+json": {
              "model_id": "b3e9ed0e804b4649b128acf9c36e2802",
              "version_major": 2,
              "version_minor": 0
            },
            "text/plain": [
              "  0%|          | 0/95 [00:00<?, ?it/s]"
            ]
          },
          "metadata": {},
          "output_type": "display_data"
        }
      ],
      "source": [
        "df = pd.read_csv(\"data_alzheimer - Sheet1.csv\")\n",
        "df[\"LLM_response\"] = df[\"question\"].progress_apply(rag_chain.invoke)"
      ]
    },
    {
      "cell_type": "code",
      "execution_count": 11,
      "metadata": {
        "colab": {
          "base_uri": "https://localhost:8080/",
          "height": 49,
          "referenced_widgets": [
            "14272a7743fc44e8ac7257febcf5cef8",
            "d7fa9ce7935a40c0b22eb840b1263a6a",
            "3e6ea69240d740e5a9b98125b37b7336",
            "0559f586b4e14ba0a3dd83d5089672f6",
            "a852fdf042b64c989fc9feb22297bbb3",
            "719b92909f794e3d95fcce04efab8c6b",
            "3dea2cfee8464f5184860c772c28598a",
            "dd377cfa53e84f3396a20bfa9ba0d1fd",
            "2bb755b76b6a4262a8fc9530bcd22554",
            "cb919a9efdda440f9086a1b0cce19728",
            "d286c9d9566a4d6da9505c6780be8236"
          ]
        },
        "id": "jFy5j1RqL2Og",
        "outputId": "3f5de488-7383-4141-85d0-ab727b6babd7"
      },
      "outputs": [
        {
          "data": {
            "application/vnd.jupyter.widget-view+json": {
              "model_id": "14272a7743fc44e8ac7257febcf5cef8",
              "version_major": 2,
              "version_minor": 0
            },
            "text/plain": [
              "Downloading builder script:   0%|          | 0.00/6.27k [00:00<?, ?B/s]"
            ]
          },
          "metadata": {},
          "output_type": "display_data"
        }
      ],
      "source": [
        "import evaluate\n",
        "\n",
        "rouge = evaluate.load(\"rouge\")"
      ]
    },
    {
      "cell_type": "code",
      "execution_count": 15,
      "metadata": {
        "id": "it_R2SaEVvKf"
      },
      "outputs": [],
      "source": [
        "df[\"LLM_answer\"] = df[\"LLM_response\"].apply(lambda x: x[\"answer\"])"
      ]
    },
    {
      "cell_type": "code",
      "execution_count": 82,
      "metadata": {
        "id": "P2ojDPkBXNgd"
      },
      "outputs": [],
      "source": [
        "import numpy as np\n",
        "\n",
        "BASE_EMBEDDINGS = OpenAIEmbeddings()\n",
        "\n",
        "def cosine_similarity(vector1, vector2):\n",
        "    vector1 = np.array(vector1)\n",
        "    vector2 = np.array(vector2)\n",
        "    dot_product = np.dot(vector1, vector2)\n",
        "    norm_vector1 = np.linalg.norm(vector1)\n",
        "    norm_vector2 = np.linalg.norm(vector2)\n",
        "    similarity = dot_product / (norm_vector1 * norm_vector2)\n",
        "    return similarity\n",
        "\n",
        "def cosine_sim(sentence_1, sentence_2, embeddings=BASE_EMBEDDINGS):\n",
        "    emb_1 = np.array(embeddings.embed_documents(sentence_1))\n",
        "    emb_2 = np.array(embeddings.embed_documents(sentence_2))\n",
        "    scores = [cosine_similarity(em1, em2) for em1, em2 in zip(emb_1, emb_2)]\n",
        "    return scores"
      ]
    },
    {
      "cell_type": "code",
      "execution_count": 84,
      "metadata": {
        "colab": {
          "base_uri": "https://localhost:8080/",
          "height": 49,
          "referenced_widgets": [
            "a388a28e9d2441d686bb1e1670d7c89e",
            "73a3eef3505343c692ee6ba08db9cad3",
            "056d2709cd294528bc29f5f2c7ba9356",
            "edd33c4988f44c238422f678d82f64a2",
            "96b335b3594d43dc994cc3271c787ea6",
            "efe85b9b1a1146c59837e793312450f1",
            "ceb9287948cf4badb47ddc0c5eb5a581",
            "77faf833dd8c47bc8268ed9d455b7872",
            "ab2b65b2ac194350accc7860b8055b79",
            "02ad480c58914206afd97b6e5f6a7280",
            "2d88375ff11e45469408976dfc6aa6d3"
          ]
        },
        "id": "WXt-tQysL8dx",
        "outputId": "a49ce73a-22f3-4c74-9be7-30d5ef8816ad"
      },
      "outputs": [
        {
          "data": {
            "application/vnd.jupyter.widget-view+json": {
              "model_id": "a388a28e9d2441d686bb1e1670d7c89e",
              "version_major": 2,
              "version_minor": 0
            },
            "text/plain": [
              "  0%|          | 0/95 [00:00<?, ?it/s]"
            ]
          },
          "metadata": {},
          "output_type": "display_data"
        }
      ],
      "source": [
        "df[\"score\"] = df.progress_apply(lambda row: rouge.compute(predictions=[row[\"LLM_answer\"]], references=[row[\"reponse\"]], rouge_types=['rouge1'])[\"rouge1\"], axis=1)\n",
        "\n",
        "df[\"cosine_sim\"] = cosine_sim(df[\"LLM_answer\"].values, df[\"reponse\"].values)"
      ]
    },
    {
      "cell_type": "code",
      "execution_count": 88,
      "metadata": {
        "colab": {
          "base_uri": "https://localhost:8080/"
        },
        "id": "rQggilUKebWg",
        "outputId": "f57e3bb9-9988-4826-a79f-ba14f30647df"
      },
      "outputs": [
        {
          "name": "stdout",
          "output_type": "stream",
          "text": [
            "Correlation Score between generated predictions and answers: 0.9344\n"
          ]
        }
      ],
      "source": [
        "print(f\"Correlation Score between generated predictions and answers: {df['cosine_sim'].mean():.4f}\")"
      ]
    },
    {
      "cell_type": "code",
      "execution_count": 16,
      "metadata": {
        "colab": {
          "base_uri": "https://localhost:8080/"
        },
        "id": "Ynj0lay7L7Ie",
        "outputId": "ff6d6ed6-e90f-481d-b419-7a0e3101413a"
      },
      "outputs": [
        {
          "name": "stdout",
          "output_type": "stream",
          "text": [
            "Rouge Score on all data: 0.4585430035632728\n"
          ]
        }
      ],
      "source": [
        "rouge_score = rouge.compute(predictions=df[\"LLM_answer\"].tolist(), references=df[\"reponse\"].tolist(), rouge_types=['rouge1'])[\"rouge1\"]\n",
        "print(f\"Rouge Score on all data: {rouge_score}\")"
      ]
    },
    {
      "cell_type": "markdown",
      "metadata": {
        "id": "V7-BprGYfBZi"
      },
      "source": [
        "The differences in scores are explained by the fact that the rouge score is a hard metric which tells us how much overlap between the target and the prediction, whereas, the cosine similarity compare the semantic meaning."
      ]
    }
  ],
  "metadata": {
    "accelerator": "GPU",
    "colab": {
      "gpuType": "T4",
      "provenance": []
    },
    "kernelspec": {
      "display_name": "Python 3 (ipykernel)",
      "language": "python",
      "name": "python3"
    },
    "language_info": {
      "codemirror_mode": {
        "name": "ipython",
        "version": 3
      },
      "file_extension": ".py",
      "mimetype": "text/x-python",
      "name": "python",
      "nbconvert_exporter": "python",
      "pygments_lexer": "ipython3",
      "version": "3.10.11"
    },
    "widgets": {
      "application/vnd.jupyter.widget-state+json": {
        "02ad480c58914206afd97b6e5f6a7280": {
          "model_module": "@jupyter-widgets/base",
          "model_module_version": "1.2.0",
          "model_name": "LayoutModel",
          "state": {
            "_model_module": "@jupyter-widgets/base",
            "_model_module_version": "1.2.0",
            "_model_name": "LayoutModel",
            "_view_count": null,
            "_view_module": "@jupyter-widgets/base",
            "_view_module_version": "1.2.0",
            "_view_name": "LayoutView",
            "align_content": null,
            "align_items": null,
            "align_self": null,
            "border": null,
            "bottom": null,
            "display": null,
            "flex": null,
            "flex_flow": null,
            "grid_area": null,
            "grid_auto_columns": null,
            "grid_auto_flow": null,
            "grid_auto_rows": null,
            "grid_column": null,
            "grid_gap": null,
            "grid_row": null,
            "grid_template_areas": null,
            "grid_template_columns": null,
            "grid_template_rows": null,
            "height": null,
            "justify_content": null,
            "justify_items": null,
            "left": null,
            "margin": null,
            "max_height": null,
            "max_width": null,
            "min_height": null,
            "min_width": null,
            "object_fit": null,
            "object_position": null,
            "order": null,
            "overflow": null,
            "overflow_x": null,
            "overflow_y": null,
            "padding": null,
            "right": null,
            "top": null,
            "visibility": null,
            "width": null
          }
        },
        "0559f586b4e14ba0a3dd83d5089672f6": {
          "model_module": "@jupyter-widgets/controls",
          "model_module_version": "1.5.0",
          "model_name": "HTMLModel",
          "state": {
            "_dom_classes": [],
            "_model_module": "@jupyter-widgets/controls",
            "_model_module_version": "1.5.0",
            "_model_name": "HTMLModel",
            "_view_count": null,
            "_view_module": "@jupyter-widgets/controls",
            "_view_module_version": "1.5.0",
            "_view_name": "HTMLView",
            "description": "",
            "description_tooltip": null,
            "layout": "IPY_MODEL_cb919a9efdda440f9086a1b0cce19728",
            "placeholder": "​",
            "style": "IPY_MODEL_d286c9d9566a4d6da9505c6780be8236",
            "value": " 6.27k/6.27k [00:00&lt;00:00, 404kB/s]"
          }
        },
        "056d2709cd294528bc29f5f2c7ba9356": {
          "model_module": "@jupyter-widgets/controls",
          "model_module_version": "1.5.0",
          "model_name": "FloatProgressModel",
          "state": {
            "_dom_classes": [],
            "_model_module": "@jupyter-widgets/controls",
            "_model_module_version": "1.5.0",
            "_model_name": "FloatProgressModel",
            "_view_count": null,
            "_view_module": "@jupyter-widgets/controls",
            "_view_module_version": "1.5.0",
            "_view_name": "ProgressView",
            "bar_style": "success",
            "description": "",
            "description_tooltip": null,
            "layout": "IPY_MODEL_77faf833dd8c47bc8268ed9d455b7872",
            "max": 95,
            "min": 0,
            "orientation": "horizontal",
            "style": "IPY_MODEL_ab2b65b2ac194350accc7860b8055b79",
            "value": 95
          }
        },
        "072327831c6b476d8ae00c5aeea09557": {
          "model_module": "@jupyter-widgets/controls",
          "model_module_version": "1.5.0",
          "model_name": "FloatProgressModel",
          "state": {
            "_dom_classes": [],
            "_model_module": "@jupyter-widgets/controls",
            "_model_module_version": "1.5.0",
            "_model_name": "FloatProgressModel",
            "_view_count": null,
            "_view_module": "@jupyter-widgets/controls",
            "_view_module_version": "1.5.0",
            "_view_name": "ProgressView",
            "bar_style": "success",
            "description": "",
            "description_tooltip": null,
            "layout": "IPY_MODEL_ecbfe459cd734e8faece4ff21e8e1a21",
            "max": 95,
            "min": 0,
            "orientation": "horizontal",
            "style": "IPY_MODEL_0944167aba3e4edeb5e0e6b9978b3f36",
            "value": 95
          }
        },
        "0944167aba3e4edeb5e0e6b9978b3f36": {
          "model_module": "@jupyter-widgets/controls",
          "model_module_version": "1.5.0",
          "model_name": "ProgressStyleModel",
          "state": {
            "_model_module": "@jupyter-widgets/controls",
            "_model_module_version": "1.5.0",
            "_model_name": "ProgressStyleModel",
            "_view_count": null,
            "_view_module": "@jupyter-widgets/base",
            "_view_module_version": "1.2.0",
            "_view_name": "StyleView",
            "bar_color": null,
            "description_width": ""
          }
        },
        "10202f8b3699412d9b0b6e92f17c169e": {
          "model_module": "@jupyter-widgets/controls",
          "model_module_version": "1.5.0",
          "model_name": "DescriptionStyleModel",
          "state": {
            "_model_module": "@jupyter-widgets/controls",
            "_model_module_version": "1.5.0",
            "_model_name": "DescriptionStyleModel",
            "_view_count": null,
            "_view_module": "@jupyter-widgets/base",
            "_view_module_version": "1.2.0",
            "_view_name": "StyleView",
            "description_width": ""
          }
        },
        "14272a7743fc44e8ac7257febcf5cef8": {
          "model_module": "@jupyter-widgets/controls",
          "model_module_version": "1.5.0",
          "model_name": "HBoxModel",
          "state": {
            "_dom_classes": [],
            "_model_module": "@jupyter-widgets/controls",
            "_model_module_version": "1.5.0",
            "_model_name": "HBoxModel",
            "_view_count": null,
            "_view_module": "@jupyter-widgets/controls",
            "_view_module_version": "1.5.0",
            "_view_name": "HBoxView",
            "box_style": "",
            "children": [
              "IPY_MODEL_d7fa9ce7935a40c0b22eb840b1263a6a",
              "IPY_MODEL_3e6ea69240d740e5a9b98125b37b7336",
              "IPY_MODEL_0559f586b4e14ba0a3dd83d5089672f6"
            ],
            "layout": "IPY_MODEL_a852fdf042b64c989fc9feb22297bbb3"
          }
        },
        "2bb755b76b6a4262a8fc9530bcd22554": {
          "model_module": "@jupyter-widgets/controls",
          "model_module_version": "1.5.0",
          "model_name": "ProgressStyleModel",
          "state": {
            "_model_module": "@jupyter-widgets/controls",
            "_model_module_version": "1.5.0",
            "_model_name": "ProgressStyleModel",
            "_view_count": null,
            "_view_module": "@jupyter-widgets/base",
            "_view_module_version": "1.2.0",
            "_view_name": "StyleView",
            "bar_color": null,
            "description_width": ""
          }
        },
        "2d88375ff11e45469408976dfc6aa6d3": {
          "model_module": "@jupyter-widgets/controls",
          "model_module_version": "1.5.0",
          "model_name": "DescriptionStyleModel",
          "state": {
            "_model_module": "@jupyter-widgets/controls",
            "_model_module_version": "1.5.0",
            "_model_name": "DescriptionStyleModel",
            "_view_count": null,
            "_view_module": "@jupyter-widgets/base",
            "_view_module_version": "1.2.0",
            "_view_name": "StyleView",
            "description_width": ""
          }
        },
        "3dea2cfee8464f5184860c772c28598a": {
          "model_module": "@jupyter-widgets/controls",
          "model_module_version": "1.5.0",
          "model_name": "DescriptionStyleModel",
          "state": {
            "_model_module": "@jupyter-widgets/controls",
            "_model_module_version": "1.5.0",
            "_model_name": "DescriptionStyleModel",
            "_view_count": null,
            "_view_module": "@jupyter-widgets/base",
            "_view_module_version": "1.2.0",
            "_view_name": "StyleView",
            "description_width": ""
          }
        },
        "3e6ea69240d740e5a9b98125b37b7336": {
          "model_module": "@jupyter-widgets/controls",
          "model_module_version": "1.5.0",
          "model_name": "FloatProgressModel",
          "state": {
            "_dom_classes": [],
            "_model_module": "@jupyter-widgets/controls",
            "_model_module_version": "1.5.0",
            "_model_name": "FloatProgressModel",
            "_view_count": null,
            "_view_module": "@jupyter-widgets/controls",
            "_view_module_version": "1.5.0",
            "_view_name": "ProgressView",
            "bar_style": "success",
            "description": "",
            "description_tooltip": null,
            "layout": "IPY_MODEL_dd377cfa53e84f3396a20bfa9ba0d1fd",
            "max": 6270,
            "min": 0,
            "orientation": "horizontal",
            "style": "IPY_MODEL_2bb755b76b6a4262a8fc9530bcd22554",
            "value": 6270
          }
        },
        "719b92909f794e3d95fcce04efab8c6b": {
          "model_module": "@jupyter-widgets/base",
          "model_module_version": "1.2.0",
          "model_name": "LayoutModel",
          "state": {
            "_model_module": "@jupyter-widgets/base",
            "_model_module_version": "1.2.0",
            "_model_name": "LayoutModel",
            "_view_count": null,
            "_view_module": "@jupyter-widgets/base",
            "_view_module_version": "1.2.0",
            "_view_name": "LayoutView",
            "align_content": null,
            "align_items": null,
            "align_self": null,
            "border": null,
            "bottom": null,
            "display": null,
            "flex": null,
            "flex_flow": null,
            "grid_area": null,
            "grid_auto_columns": null,
            "grid_auto_flow": null,
            "grid_auto_rows": null,
            "grid_column": null,
            "grid_gap": null,
            "grid_row": null,
            "grid_template_areas": null,
            "grid_template_columns": null,
            "grid_template_rows": null,
            "height": null,
            "justify_content": null,
            "justify_items": null,
            "left": null,
            "margin": null,
            "max_height": null,
            "max_width": null,
            "min_height": null,
            "min_width": null,
            "object_fit": null,
            "object_position": null,
            "order": null,
            "overflow": null,
            "overflow_x": null,
            "overflow_y": null,
            "padding": null,
            "right": null,
            "top": null,
            "visibility": null,
            "width": null
          }
        },
        "73a3eef3505343c692ee6ba08db9cad3": {
          "model_module": "@jupyter-widgets/controls",
          "model_module_version": "1.5.0",
          "model_name": "HTMLModel",
          "state": {
            "_dom_classes": [],
            "_model_module": "@jupyter-widgets/controls",
            "_model_module_version": "1.5.0",
            "_model_name": "HTMLModel",
            "_view_count": null,
            "_view_module": "@jupyter-widgets/controls",
            "_view_module_version": "1.5.0",
            "_view_name": "HTMLView",
            "description": "",
            "description_tooltip": null,
            "layout": "IPY_MODEL_efe85b9b1a1146c59837e793312450f1",
            "placeholder": "​",
            "style": "IPY_MODEL_ceb9287948cf4badb47ddc0c5eb5a581",
            "value": "100%"
          }
        },
        "77faf833dd8c47bc8268ed9d455b7872": {
          "model_module": "@jupyter-widgets/base",
          "model_module_version": "1.2.0",
          "model_name": "LayoutModel",
          "state": {
            "_model_module": "@jupyter-widgets/base",
            "_model_module_version": "1.2.0",
            "_model_name": "LayoutModel",
            "_view_count": null,
            "_view_module": "@jupyter-widgets/base",
            "_view_module_version": "1.2.0",
            "_view_name": "LayoutView",
            "align_content": null,
            "align_items": null,
            "align_self": null,
            "border": null,
            "bottom": null,
            "display": null,
            "flex": null,
            "flex_flow": null,
            "grid_area": null,
            "grid_auto_columns": null,
            "grid_auto_flow": null,
            "grid_auto_rows": null,
            "grid_column": null,
            "grid_gap": null,
            "grid_row": null,
            "grid_template_areas": null,
            "grid_template_columns": null,
            "grid_template_rows": null,
            "height": null,
            "justify_content": null,
            "justify_items": null,
            "left": null,
            "margin": null,
            "max_height": null,
            "max_width": null,
            "min_height": null,
            "min_width": null,
            "object_fit": null,
            "object_position": null,
            "order": null,
            "overflow": null,
            "overflow_x": null,
            "overflow_y": null,
            "padding": null,
            "right": null,
            "top": null,
            "visibility": null,
            "width": null
          }
        },
        "7d2644d61d39476c888fd04b14a4cd62": {
          "model_module": "@jupyter-widgets/controls",
          "model_module_version": "1.5.0",
          "model_name": "HTMLModel",
          "state": {
            "_dom_classes": [],
            "_model_module": "@jupyter-widgets/controls",
            "_model_module_version": "1.5.0",
            "_model_name": "HTMLModel",
            "_view_count": null,
            "_view_module": "@jupyter-widgets/controls",
            "_view_module_version": "1.5.0",
            "_view_name": "HTMLView",
            "description": "",
            "description_tooltip": null,
            "layout": "IPY_MODEL_b35b1ff3d539495cbefc1ad93ea383b9",
            "placeholder": "​",
            "style": "IPY_MODEL_10202f8b3699412d9b0b6e92f17c169e",
            "value": " 95/95 [31:45&lt;00:00, 20.74s/it]"
          }
        },
        "91f16204e40944ddba35a903622819b2": {
          "model_module": "@jupyter-widgets/base",
          "model_module_version": "1.2.0",
          "model_name": "LayoutModel",
          "state": {
            "_model_module": "@jupyter-widgets/base",
            "_model_module_version": "1.2.0",
            "_model_name": "LayoutModel",
            "_view_count": null,
            "_view_module": "@jupyter-widgets/base",
            "_view_module_version": "1.2.0",
            "_view_name": "LayoutView",
            "align_content": null,
            "align_items": null,
            "align_self": null,
            "border": null,
            "bottom": null,
            "display": null,
            "flex": null,
            "flex_flow": null,
            "grid_area": null,
            "grid_auto_columns": null,
            "grid_auto_flow": null,
            "grid_auto_rows": null,
            "grid_column": null,
            "grid_gap": null,
            "grid_row": null,
            "grid_template_areas": null,
            "grid_template_columns": null,
            "grid_template_rows": null,
            "height": null,
            "justify_content": null,
            "justify_items": null,
            "left": null,
            "margin": null,
            "max_height": null,
            "max_width": null,
            "min_height": null,
            "min_width": null,
            "object_fit": null,
            "object_position": null,
            "order": null,
            "overflow": null,
            "overflow_x": null,
            "overflow_y": null,
            "padding": null,
            "right": null,
            "top": null,
            "visibility": null,
            "width": null
          }
        },
        "924b037eceec4fa4841a8b400e7335b8": {
          "model_module": "@jupyter-widgets/controls",
          "model_module_version": "1.5.0",
          "model_name": "HTMLModel",
          "state": {
            "_dom_classes": [],
            "_model_module": "@jupyter-widgets/controls",
            "_model_module_version": "1.5.0",
            "_model_name": "HTMLModel",
            "_view_count": null,
            "_view_module": "@jupyter-widgets/controls",
            "_view_module_version": "1.5.0",
            "_view_name": "HTMLView",
            "description": "",
            "description_tooltip": null,
            "layout": "IPY_MODEL_91f16204e40944ddba35a903622819b2",
            "placeholder": "​",
            "style": "IPY_MODEL_abd74aca31ee4ba980e44fd4151369e9",
            "value": "100%"
          }
        },
        "96b335b3594d43dc994cc3271c787ea6": {
          "model_module": "@jupyter-widgets/base",
          "model_module_version": "1.2.0",
          "model_name": "LayoutModel",
          "state": {
            "_model_module": "@jupyter-widgets/base",
            "_model_module_version": "1.2.0",
            "_model_name": "LayoutModel",
            "_view_count": null,
            "_view_module": "@jupyter-widgets/base",
            "_view_module_version": "1.2.0",
            "_view_name": "LayoutView",
            "align_content": null,
            "align_items": null,
            "align_self": null,
            "border": null,
            "bottom": null,
            "display": null,
            "flex": null,
            "flex_flow": null,
            "grid_area": null,
            "grid_auto_columns": null,
            "grid_auto_flow": null,
            "grid_auto_rows": null,
            "grid_column": null,
            "grid_gap": null,
            "grid_row": null,
            "grid_template_areas": null,
            "grid_template_columns": null,
            "grid_template_rows": null,
            "height": null,
            "justify_content": null,
            "justify_items": null,
            "left": null,
            "margin": null,
            "max_height": null,
            "max_width": null,
            "min_height": null,
            "min_width": null,
            "object_fit": null,
            "object_position": null,
            "order": null,
            "overflow": null,
            "overflow_x": null,
            "overflow_y": null,
            "padding": null,
            "right": null,
            "top": null,
            "visibility": null,
            "width": null
          }
        },
        "a388a28e9d2441d686bb1e1670d7c89e": {
          "model_module": "@jupyter-widgets/controls",
          "model_module_version": "1.5.0",
          "model_name": "HBoxModel",
          "state": {
            "_dom_classes": [],
            "_model_module": "@jupyter-widgets/controls",
            "_model_module_version": "1.5.0",
            "_model_name": "HBoxModel",
            "_view_count": null,
            "_view_module": "@jupyter-widgets/controls",
            "_view_module_version": "1.5.0",
            "_view_name": "HBoxView",
            "box_style": "",
            "children": [
              "IPY_MODEL_73a3eef3505343c692ee6ba08db9cad3",
              "IPY_MODEL_056d2709cd294528bc29f5f2c7ba9356",
              "IPY_MODEL_edd33c4988f44c238422f678d82f64a2"
            ],
            "layout": "IPY_MODEL_96b335b3594d43dc994cc3271c787ea6"
          }
        },
        "a852fdf042b64c989fc9feb22297bbb3": {
          "model_module": "@jupyter-widgets/base",
          "model_module_version": "1.2.0",
          "model_name": "LayoutModel",
          "state": {
            "_model_module": "@jupyter-widgets/base",
            "_model_module_version": "1.2.0",
            "_model_name": "LayoutModel",
            "_view_count": null,
            "_view_module": "@jupyter-widgets/base",
            "_view_module_version": "1.2.0",
            "_view_name": "LayoutView",
            "align_content": null,
            "align_items": null,
            "align_self": null,
            "border": null,
            "bottom": null,
            "display": null,
            "flex": null,
            "flex_flow": null,
            "grid_area": null,
            "grid_auto_columns": null,
            "grid_auto_flow": null,
            "grid_auto_rows": null,
            "grid_column": null,
            "grid_gap": null,
            "grid_row": null,
            "grid_template_areas": null,
            "grid_template_columns": null,
            "grid_template_rows": null,
            "height": null,
            "justify_content": null,
            "justify_items": null,
            "left": null,
            "margin": null,
            "max_height": null,
            "max_width": null,
            "min_height": null,
            "min_width": null,
            "object_fit": null,
            "object_position": null,
            "order": null,
            "overflow": null,
            "overflow_x": null,
            "overflow_y": null,
            "padding": null,
            "right": null,
            "top": null,
            "visibility": null,
            "width": null
          }
        },
        "ab2b65b2ac194350accc7860b8055b79": {
          "model_module": "@jupyter-widgets/controls",
          "model_module_version": "1.5.0",
          "model_name": "ProgressStyleModel",
          "state": {
            "_model_module": "@jupyter-widgets/controls",
            "_model_module_version": "1.5.0",
            "_model_name": "ProgressStyleModel",
            "_view_count": null,
            "_view_module": "@jupyter-widgets/base",
            "_view_module_version": "1.2.0",
            "_view_name": "StyleView",
            "bar_color": null,
            "description_width": ""
          }
        },
        "abd74aca31ee4ba980e44fd4151369e9": {
          "model_module": "@jupyter-widgets/controls",
          "model_module_version": "1.5.0",
          "model_name": "DescriptionStyleModel",
          "state": {
            "_model_module": "@jupyter-widgets/controls",
            "_model_module_version": "1.5.0",
            "_model_name": "DescriptionStyleModel",
            "_view_count": null,
            "_view_module": "@jupyter-widgets/base",
            "_view_module_version": "1.2.0",
            "_view_name": "StyleView",
            "description_width": ""
          }
        },
        "b35b1ff3d539495cbefc1ad93ea383b9": {
          "model_module": "@jupyter-widgets/base",
          "model_module_version": "1.2.0",
          "model_name": "LayoutModel",
          "state": {
            "_model_module": "@jupyter-widgets/base",
            "_model_module_version": "1.2.0",
            "_model_name": "LayoutModel",
            "_view_count": null,
            "_view_module": "@jupyter-widgets/base",
            "_view_module_version": "1.2.0",
            "_view_name": "LayoutView",
            "align_content": null,
            "align_items": null,
            "align_self": null,
            "border": null,
            "bottom": null,
            "display": null,
            "flex": null,
            "flex_flow": null,
            "grid_area": null,
            "grid_auto_columns": null,
            "grid_auto_flow": null,
            "grid_auto_rows": null,
            "grid_column": null,
            "grid_gap": null,
            "grid_row": null,
            "grid_template_areas": null,
            "grid_template_columns": null,
            "grid_template_rows": null,
            "height": null,
            "justify_content": null,
            "justify_items": null,
            "left": null,
            "margin": null,
            "max_height": null,
            "max_width": null,
            "min_height": null,
            "min_width": null,
            "object_fit": null,
            "object_position": null,
            "order": null,
            "overflow": null,
            "overflow_x": null,
            "overflow_y": null,
            "padding": null,
            "right": null,
            "top": null,
            "visibility": null,
            "width": null
          }
        },
        "b3e9ed0e804b4649b128acf9c36e2802": {
          "model_module": "@jupyter-widgets/controls",
          "model_module_version": "1.5.0",
          "model_name": "HBoxModel",
          "state": {
            "_dom_classes": [],
            "_model_module": "@jupyter-widgets/controls",
            "_model_module_version": "1.5.0",
            "_model_name": "HBoxModel",
            "_view_count": null,
            "_view_module": "@jupyter-widgets/controls",
            "_view_module_version": "1.5.0",
            "_view_name": "HBoxView",
            "box_style": "",
            "children": [
              "IPY_MODEL_924b037eceec4fa4841a8b400e7335b8",
              "IPY_MODEL_072327831c6b476d8ae00c5aeea09557",
              "IPY_MODEL_7d2644d61d39476c888fd04b14a4cd62"
            ],
            "layout": "IPY_MODEL_d61c5d1167ec4ef2a12ec9a0ddb1ef6f"
          }
        },
        "cb919a9efdda440f9086a1b0cce19728": {
          "model_module": "@jupyter-widgets/base",
          "model_module_version": "1.2.0",
          "model_name": "LayoutModel",
          "state": {
            "_model_module": "@jupyter-widgets/base",
            "_model_module_version": "1.2.0",
            "_model_name": "LayoutModel",
            "_view_count": null,
            "_view_module": "@jupyter-widgets/base",
            "_view_module_version": "1.2.0",
            "_view_name": "LayoutView",
            "align_content": null,
            "align_items": null,
            "align_self": null,
            "border": null,
            "bottom": null,
            "display": null,
            "flex": null,
            "flex_flow": null,
            "grid_area": null,
            "grid_auto_columns": null,
            "grid_auto_flow": null,
            "grid_auto_rows": null,
            "grid_column": null,
            "grid_gap": null,
            "grid_row": null,
            "grid_template_areas": null,
            "grid_template_columns": null,
            "grid_template_rows": null,
            "height": null,
            "justify_content": null,
            "justify_items": null,
            "left": null,
            "margin": null,
            "max_height": null,
            "max_width": null,
            "min_height": null,
            "min_width": null,
            "object_fit": null,
            "object_position": null,
            "order": null,
            "overflow": null,
            "overflow_x": null,
            "overflow_y": null,
            "padding": null,
            "right": null,
            "top": null,
            "visibility": null,
            "width": null
          }
        },
        "ceb9287948cf4badb47ddc0c5eb5a581": {
          "model_module": "@jupyter-widgets/controls",
          "model_module_version": "1.5.0",
          "model_name": "DescriptionStyleModel",
          "state": {
            "_model_module": "@jupyter-widgets/controls",
            "_model_module_version": "1.5.0",
            "_model_name": "DescriptionStyleModel",
            "_view_count": null,
            "_view_module": "@jupyter-widgets/base",
            "_view_module_version": "1.2.0",
            "_view_name": "StyleView",
            "description_width": ""
          }
        },
        "d286c9d9566a4d6da9505c6780be8236": {
          "model_module": "@jupyter-widgets/controls",
          "model_module_version": "1.5.0",
          "model_name": "DescriptionStyleModel",
          "state": {
            "_model_module": "@jupyter-widgets/controls",
            "_model_module_version": "1.5.0",
            "_model_name": "DescriptionStyleModel",
            "_view_count": null,
            "_view_module": "@jupyter-widgets/base",
            "_view_module_version": "1.2.0",
            "_view_name": "StyleView",
            "description_width": ""
          }
        },
        "d61c5d1167ec4ef2a12ec9a0ddb1ef6f": {
          "model_module": "@jupyter-widgets/base",
          "model_module_version": "1.2.0",
          "model_name": "LayoutModel",
          "state": {
            "_model_module": "@jupyter-widgets/base",
            "_model_module_version": "1.2.0",
            "_model_name": "LayoutModel",
            "_view_count": null,
            "_view_module": "@jupyter-widgets/base",
            "_view_module_version": "1.2.0",
            "_view_name": "LayoutView",
            "align_content": null,
            "align_items": null,
            "align_self": null,
            "border": null,
            "bottom": null,
            "display": null,
            "flex": null,
            "flex_flow": null,
            "grid_area": null,
            "grid_auto_columns": null,
            "grid_auto_flow": null,
            "grid_auto_rows": null,
            "grid_column": null,
            "grid_gap": null,
            "grid_row": null,
            "grid_template_areas": null,
            "grid_template_columns": null,
            "grid_template_rows": null,
            "height": null,
            "justify_content": null,
            "justify_items": null,
            "left": null,
            "margin": null,
            "max_height": null,
            "max_width": null,
            "min_height": null,
            "min_width": null,
            "object_fit": null,
            "object_position": null,
            "order": null,
            "overflow": null,
            "overflow_x": null,
            "overflow_y": null,
            "padding": null,
            "right": null,
            "top": null,
            "visibility": null,
            "width": null
          }
        },
        "d7fa9ce7935a40c0b22eb840b1263a6a": {
          "model_module": "@jupyter-widgets/controls",
          "model_module_version": "1.5.0",
          "model_name": "HTMLModel",
          "state": {
            "_dom_classes": [],
            "_model_module": "@jupyter-widgets/controls",
            "_model_module_version": "1.5.0",
            "_model_name": "HTMLModel",
            "_view_count": null,
            "_view_module": "@jupyter-widgets/controls",
            "_view_module_version": "1.5.0",
            "_view_name": "HTMLView",
            "description": "",
            "description_tooltip": null,
            "layout": "IPY_MODEL_719b92909f794e3d95fcce04efab8c6b",
            "placeholder": "​",
            "style": "IPY_MODEL_3dea2cfee8464f5184860c772c28598a",
            "value": "Downloading builder script: 100%"
          }
        },
        "dd377cfa53e84f3396a20bfa9ba0d1fd": {
          "model_module": "@jupyter-widgets/base",
          "model_module_version": "1.2.0",
          "model_name": "LayoutModel",
          "state": {
            "_model_module": "@jupyter-widgets/base",
            "_model_module_version": "1.2.0",
            "_model_name": "LayoutModel",
            "_view_count": null,
            "_view_module": "@jupyter-widgets/base",
            "_view_module_version": "1.2.0",
            "_view_name": "LayoutView",
            "align_content": null,
            "align_items": null,
            "align_self": null,
            "border": null,
            "bottom": null,
            "display": null,
            "flex": null,
            "flex_flow": null,
            "grid_area": null,
            "grid_auto_columns": null,
            "grid_auto_flow": null,
            "grid_auto_rows": null,
            "grid_column": null,
            "grid_gap": null,
            "grid_row": null,
            "grid_template_areas": null,
            "grid_template_columns": null,
            "grid_template_rows": null,
            "height": null,
            "justify_content": null,
            "justify_items": null,
            "left": null,
            "margin": null,
            "max_height": null,
            "max_width": null,
            "min_height": null,
            "min_width": null,
            "object_fit": null,
            "object_position": null,
            "order": null,
            "overflow": null,
            "overflow_x": null,
            "overflow_y": null,
            "padding": null,
            "right": null,
            "top": null,
            "visibility": null,
            "width": null
          }
        },
        "ecbfe459cd734e8faece4ff21e8e1a21": {
          "model_module": "@jupyter-widgets/base",
          "model_module_version": "1.2.0",
          "model_name": "LayoutModel",
          "state": {
            "_model_module": "@jupyter-widgets/base",
            "_model_module_version": "1.2.0",
            "_model_name": "LayoutModel",
            "_view_count": null,
            "_view_module": "@jupyter-widgets/base",
            "_view_module_version": "1.2.0",
            "_view_name": "LayoutView",
            "align_content": null,
            "align_items": null,
            "align_self": null,
            "border": null,
            "bottom": null,
            "display": null,
            "flex": null,
            "flex_flow": null,
            "grid_area": null,
            "grid_auto_columns": null,
            "grid_auto_flow": null,
            "grid_auto_rows": null,
            "grid_column": null,
            "grid_gap": null,
            "grid_row": null,
            "grid_template_areas": null,
            "grid_template_columns": null,
            "grid_template_rows": null,
            "height": null,
            "justify_content": null,
            "justify_items": null,
            "left": null,
            "margin": null,
            "max_height": null,
            "max_width": null,
            "min_height": null,
            "min_width": null,
            "object_fit": null,
            "object_position": null,
            "order": null,
            "overflow": null,
            "overflow_x": null,
            "overflow_y": null,
            "padding": null,
            "right": null,
            "top": null,
            "visibility": null,
            "width": null
          }
        },
        "edd33c4988f44c238422f678d82f64a2": {
          "model_module": "@jupyter-widgets/controls",
          "model_module_version": "1.5.0",
          "model_name": "HTMLModel",
          "state": {
            "_dom_classes": [],
            "_model_module": "@jupyter-widgets/controls",
            "_model_module_version": "1.5.0",
            "_model_name": "HTMLModel",
            "_view_count": null,
            "_view_module": "@jupyter-widgets/controls",
            "_view_module_version": "1.5.0",
            "_view_name": "HTMLView",
            "description": "",
            "description_tooltip": null,
            "layout": "IPY_MODEL_02ad480c58914206afd97b6e5f6a7280",
            "placeholder": "​",
            "style": "IPY_MODEL_2d88375ff11e45469408976dfc6aa6d3",
            "value": " 95/95 [00:05&lt;00:00, 20.24it/s]"
          }
        },
        "efe85b9b1a1146c59837e793312450f1": {
          "model_module": "@jupyter-widgets/base",
          "model_module_version": "1.2.0",
          "model_name": "LayoutModel",
          "state": {
            "_model_module": "@jupyter-widgets/base",
            "_model_module_version": "1.2.0",
            "_model_name": "LayoutModel",
            "_view_count": null,
            "_view_module": "@jupyter-widgets/base",
            "_view_module_version": "1.2.0",
            "_view_name": "LayoutView",
            "align_content": null,
            "align_items": null,
            "align_self": null,
            "border": null,
            "bottom": null,
            "display": null,
            "flex": null,
            "flex_flow": null,
            "grid_area": null,
            "grid_auto_columns": null,
            "grid_auto_flow": null,
            "grid_auto_rows": null,
            "grid_column": null,
            "grid_gap": null,
            "grid_row": null,
            "grid_template_areas": null,
            "grid_template_columns": null,
            "grid_template_rows": null,
            "height": null,
            "justify_content": null,
            "justify_items": null,
            "left": null,
            "margin": null,
            "max_height": null,
            "max_width": null,
            "min_height": null,
            "min_width": null,
            "object_fit": null,
            "object_position": null,
            "order": null,
            "overflow": null,
            "overflow_x": null,
            "overflow_y": null,
            "padding": null,
            "right": null,
            "top": null,
            "visibility": null,
            "width": null
          }
        }
      }
    }
  },
  "nbformat": 4,
  "nbformat_minor": 0
}
